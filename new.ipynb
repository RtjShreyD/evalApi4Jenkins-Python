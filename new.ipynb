{
 "cells": [
  {
   "cell_type": "code",
   "execution_count": 19,
   "metadata": {},
   "outputs": [
    {
     "name": "stdout",
     "output_type": "stream",
     "text": [
      "This is the line :             GIT_REPO = '' // replaces 'git clone url ssh'\n",
      "\n",
      "Newline is at idx 28 : \t\t\tGIT_REPO = 'git@github'\n",
      "\n",
      "This is the line :             APP_REGISTRY = '' // replaces generated registry url\n",
      "\n",
      "Newline is at idx 32 : \t\t\tAPP_REGISTRY = 'registry'\n",
      "\n"
     ]
    }
   ],
   "source": [
    "def makeJenkinsfile(filename, repo, registry):\n",
    "    try:\n",
    "        idx = 0\n",
    "        with open(filename, 'r') as f:\n",
    "            lines = f.readlines()\n",
    "            with open('newfile', 'w') as f2:\n",
    "                for line in lines:\n",
    "                    if line.strip().startswith(\"GIT_REPO\"):\n",
    "                        print(\"This is the line : {}\".format(line))\n",
    "                        line = \"\\t\\t\\tGIT_REPO = '{}'\\n\".format(repo)\n",
    "                        print(\"Newline is at idx {} : {}\".format(idx, line))\n",
    "\n",
    "                    if line.strip().startswith(\"APP_REGISTRY\"):\n",
    "                        print(\"This is the line : {}\".format(line))\n",
    "                        line = \"\\t\\t\\tAPP_REGISTRY = '{}'\\n\".format(registry)\n",
    "                        print(\"Newline is at idx {} : {}\".format(idx, line))\n",
    "\n",
    "                    idx += 1\n",
    "                    f2.write(line)\n",
    "                           \n",
    "    except Exception as e:\n",
    "        print(\"Error: {}\".format(e))\n",
    "\n",
    "makeJenkinsfile('clientJenkinsfile', 'git@github', 'registry')"
   ]
  },
  {
   "cell_type": "code",
   "execution_count": null,
   "metadata": {},
   "outputs": [],
   "source": []
  }
 ],
 "metadata": {
  "interpreter": {
   "hash": "837121c29c5e691ecdbabcd65a087d27f83bc2744fde0f9815be77195492ec02"
  },
  "kernelspec": {
   "display_name": "Python 3.8.10 64-bit ('apiEnv': venv)",
   "language": "python",
   "name": "python3"
  },
  "language_info": {
   "codemirror_mode": {
    "name": "ipython",
    "version": 3
   },
   "file_extension": ".py",
   "mimetype": "text/x-python",
   "name": "python",
   "nbconvert_exporter": "python",
   "pygments_lexer": "ipython3",
   "version": "3.8.10"
  },
  "orig_nbformat": 4
 },
 "nbformat": 4,
 "nbformat_minor": 2
}
