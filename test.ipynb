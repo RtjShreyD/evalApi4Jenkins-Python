{
 "cells": [
  {
   "cell_type": "code",
   "execution_count": 11,
   "metadata": {},
   "outputs": [],
   "source": [
    "from api4jenkins import Jenkins\n",
    "import time"
   ]
  },
  {
   "cell_type": "code",
   "execution_count": 26,
   "metadata": {},
   "outputs": [
    {
     "data": {
      "text/plain": [
       "'2.303.3'"
      ]
     },
     "execution_count": 26,
     "metadata": {},
     "output_type": "execute_result"
    }
   ],
   "source": [
    "j = Jenkins('http://localhost:8080/', auth=('rtj', 'rtj@jenkins'), token=True)\n",
    "j.version"
   ]
  },
  {
   "cell_type": "code",
   "execution_count": 28,
   "metadata": {},
   "outputs": [],
   "source": [
    "xml = \"\"\"<?xml version='1.1' encoding='UTF-8'?>\n",
    "... <project>\n",
    "...   <builders>\n",
    "...     <hudson.tasks.Shell>\n",
    "...       <command>echo $JENKINS_VERSION</command>\n",
    "...     </hudson.tasks.Shell>\n",
    "...   </builders>\n",
    "... </project>\"\"\""
   ]
  },
  {
   "cell_type": "code",
   "execution_count": 29,
   "metadata": {},
   "outputs": [
    {
     "name": "stdout",
     "output_type": "stream",
     "text": [
      "<FreeStyleProject: http://localhost:8080/job/freestylejob/>\n"
     ]
    }
   ],
   "source": [
    "j.create_job('freestylejob', xml)\n",
    "job = j.get_job('freestylejob')\n",
    "print(job)"
   ]
  },
  {
   "cell_type": "code",
   "execution_count": 30,
   "metadata": {},
   "outputs": [],
   "source": [
    "item = j.build_job('freestylejob')"
   ]
  },
  {
   "cell_type": "code",
   "execution_count": 31,
   "metadata": {},
   "outputs": [
    {
     "name": "stdout",
     "output_type": "stream",
     "text": [
      "<FreeStyleBuild: http://localhost:8080/job/freestylejob/1/>\n"
     ]
    }
   ],
   "source": [
    "while not item.get_build():\n",
    "     time.sleep(1)\n",
    "build = item.get_build()\n",
    "print(build)\n"
   ]
  },
  {
   "cell_type": "code",
   "execution_count": 32,
   "metadata": {},
   "outputs": [
    {
     "name": "stdout",
     "output_type": "stream",
     "text": [
      "Started by user Shreyansh Dubey\n",
      "Running as SYSTEM\n",
      "Building in workspace /var/lib/jenkins/workspace/freestylejob\n",
      "[freestylejob] $ /bin/sh -xe /tmp/jenkins9788660650328168949.sh\n",
      "+ echo\n",
      "\n",
      "Finished: SUCCESS\n",
      "\n"
     ]
    }
   ],
   "source": [
    "for line in build.progressive_output():\n",
    "    print(line)"
   ]
  },
  {
   "cell_type": "code",
   "execution_count": null,
   "metadata": {},
   "outputs": [],
   "source": []
  }
 ],
 "metadata": {
  "interpreter": {
   "hash": "837121c29c5e691ecdbabcd65a087d27f83bc2744fde0f9815be77195492ec02"
  },
  "kernelspec": {
   "display_name": "Python 3.8.10 64-bit ('apiEnv': venv)",
   "language": "python",
   "name": "python3"
  },
  "language_info": {
   "codemirror_mode": {
    "name": "ipython",
    "version": 3
   },
   "file_extension": ".py",
   "mimetype": "text/x-python",
   "name": "python",
   "nbconvert_exporter": "python",
   "pygments_lexer": "ipython3",
   "version": "3.8.10"
  },
  "orig_nbformat": 4
 },
 "nbformat": 4,
 "nbformat_minor": 2
}
