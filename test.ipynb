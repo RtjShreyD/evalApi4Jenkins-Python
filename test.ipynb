{
 "cells": [
  {
   "cell_type": "code",
   "execution_count": 1,
   "metadata": {},
   "outputs": [],
   "source": [
    "from api4jenkins import Jenkins\n",
    "import time"
   ]
  },
  {
   "cell_type": "code",
   "execution_count": 2,
   "metadata": {},
   "outputs": [
    {
     "data": {
      "text/plain": [
       "'2.303.3'"
      ]
     },
     "execution_count": 2,
     "metadata": {},
     "output_type": "execute_result"
    }
   ],
   "source": [
    "j = Jenkins('http://localhost:8080/', auth=('rtj', 'rtj@jenkins'), token=True)\n",
    "j.version"
   ]
  },
  {
   "cell_type": "code",
   "execution_count": 3,
   "metadata": {},
   "outputs": [],
   "source": [
    "xml = \"\"\"<?xml version='1.1' encoding='UTF-8'?>\n",
    "... <project>\n",
    "...   <builders>\n",
    "...     <hudson.tasks.Shell>\n",
    "...       <command>echo $JENKINS_VERSION</command>\n",
    "...     </hudson.tasks.Shell>\n",
    "...   </builders>\n",
    "... </project>\"\"\""
   ]
  },
  {
   "cell_type": "code",
   "execution_count": 4,
   "metadata": {},
   "outputs": [
    {
     "name": "stdout",
     "output_type": "stream",
     "text": [
      "<FreeStyleProject: http://localhost:8080/job/freestylejob/>\n"
     ]
    }
   ],
   "source": [
    "j.create_job('freestylejob', xml)\n",
    "job = j.get_job('freestylejob')\n",
    "print(job)"
   ]
  },
  {
   "cell_type": "code",
   "execution_count": 5,
   "metadata": {},
   "outputs": [],
   "source": [
    "item = j.build_job('freestylejob')"
   ]
  },
  {
   "cell_type": "code",
   "execution_count": 6,
   "metadata": {},
   "outputs": [
    {
     "name": "stdout",
     "output_type": "stream",
     "text": [
      "<FreeStyleBuild: http://localhost:8080/job/freestylejob/1/>\n"
     ]
    }
   ],
   "source": [
    "while not item.get_build():\n",
    "     time.sleep(1)\n",
    "build = item.get_build()\n",
    "print(build)\n"
   ]
  },
  {
   "cell_type": "code",
   "execution_count": 7,
   "metadata": {},
   "outputs": [
    {
     "name": "stdout",
     "output_type": "stream",
     "text": [
      "Started by user Shreyansh Dubey\n",
      "Running as SYSTEM\n",
      "Building in workspace /var/lib/jenkins/workspace/freestylejob\n",
      "[freestylejob] $ /bin/sh -xe /tmp/jenkins10686892714764969861.sh\n",
      "+ echo\n",
      "\n",
      "Finished: SUCCESS\n",
      "\n"
     ]
    }
   ],
   "source": [
    "for line in build.progressive_output():\n",
    "    print(line)"
   ]
  },
  {
   "cell_type": "code",
   "execution_count": 8,
   "metadata": {},
   "outputs": [
    {
     "name": "stdout",
     "output_type": "stream",
     "text": [
      "<?xml version=\"1.1\" encoding=\"UTF-8\"?><project>\n",
      "  <builders>\n",
      "    <hudson.tasks.Shell>\n",
      "      <command>echo $JENKINS_VERSION</command>\n",
      "    </hudson.tasks.Shell>\n",
      "  </builders>\n",
      "</project>\n"
     ]
    }
   ],
   "source": [
    "print(job.configure())"
   ]
  },
  {
   "cell_type": "code",
   "execution_count": 9,
   "metadata": {},
   "outputs": [],
   "source": [
    "newxml = \"\"\"<?xml version='1.1' encoding='UTF-8'?>\n",
    "<project>\n",
    "  <builders>\n",
    "    <hudson.tasks.Shell>\n",
    "      <command>echo this is testing!</command>\n",
    "    </hudson.tasks.Shell>\n",
    "  </builders>\n",
    "</project>\"\"\""
   ]
  },
  {
   "cell_type": "code",
   "execution_count": 10,
   "metadata": {},
   "outputs": [
    {
     "data": {
      "text/plain": [
       "<Response [200]>"
      ]
     },
     "execution_count": 10,
     "metadata": {},
     "output_type": "execute_result"
    }
   ],
   "source": [
    "job.configure(newxml)"
   ]
  },
  {
   "cell_type": "code",
   "execution_count": 11,
   "metadata": {},
   "outputs": [],
   "source": [
    "job.description"
   ]
  },
  {
   "cell_type": "code",
   "execution_count": 12,
   "metadata": {},
   "outputs": [],
   "source": [
    "job.set_description('new description')"
   ]
  },
  {
   "cell_type": "code",
   "execution_count": 13,
   "metadata": {},
   "outputs": [
    {
     "data": {
      "text/plain": [
       "<Response [302]>"
      ]
     },
     "execution_count": 13,
     "metadata": {},
     "output_type": "execute_result"
    }
   ],
   "source": [
    "job.rename('New-freestyle-Job')"
   ]
  },
  {
   "cell_type": "markdown",
   "metadata": {},
   "source": [
    "## Now to reverse engineer the XML file\n",
    "### Pick a manually created pipeline job, fetch the XML and create a new XML with similar configuration and Update it to a job created using code."
   ]
  },
  {
   "cell_type": "code",
   "execution_count": 14,
   "metadata": {},
   "outputs": [],
   "source": [
    "manualJob = j.get_job('Python-Application')"
   ]
  },
  {
   "cell_type": "code",
   "execution_count": 15,
   "metadata": {},
   "outputs": [
    {
     "name": "stdout",
     "output_type": "stream",
     "text": [
      "<?xml version='1.1' encoding='UTF-8'?>\n",
      "<flow-definition plugin=\"workflow-job@2.42\">\n",
      "  <actions>\n",
      "    <org.jenkinsci.plugins.pipeline.modeldefinition.actions.DeclarativeJobAction plugin=\"pipeline-model-definition@1.9.3\"/>\n",
      "    <org.jenkinsci.plugins.pipeline.modeldefinition.actions.DeclarativeJobPropertyTrackerAction plugin=\"pipeline-model-definition@1.9.3\">\n",
      "      <jobProperties/>\n",
      "      <triggers/>\n",
      "      <parameters/>\n",
      "      <options/>\n",
      "    </org.jenkinsci.plugins.pipeline.modeldefinition.actions.DeclarativeJobPropertyTrackerAction>\n",
      "  </actions>\n",
      "  <description>Simple test pipeline to build python app</description>\n",
      "  <keepDependencies>false</keepDependencies>\n",
      "  <properties/>\n",
      "  <definition class=\"org.jenkinsci.plugins.workflow.cps.CpsScmFlowDefinition\" plugin=\"workflow-cps@2633.v6baeedc13805\">\n",
      "    <scm class=\"hudson.plugins.git.GitSCM\" plugin=\"git@4.10.0\">\n",
      "      <configVersion>2</configVersion>\n",
      "      <userRemoteConfigs>\n",
      "        <hudson.plugins.git.UserRemoteConfig>\n",
      "          <url>https://github.com/RtjShreyD/Jenkins-Python-Tests.git</url>\n",
      "        </hudson.plugins.git.UserRemoteConfig>\n",
      "      </userRemoteConfigs>\n",
      "      <branches>\n",
      "        <hudson.plugins.git.BranchSpec>\n",
      "          <name>*/main</name>\n",
      "        </hudson.plugins.git.BranchSpec>\n",
      "      </branches>\n",
      "      <doGenerateSubmoduleConfigurations>false</doGenerateSubmoduleConfigurations>\n",
      "      <submoduleCfg class=\"empty-list\"/>\n",
      "      <extensions/>\n",
      "    </scm>\n",
      "    <scriptPath>Jenkinsfile</scriptPath>\n",
      "    <lightweight>true</lightweight>\n",
      "  </definition>\n",
      "  <triggers/>\n",
      "  <disabled>false</disabled>\n",
      "</flow-definition>\n"
     ]
    }
   ],
   "source": [
    "print(manualJob.configure())"
   ]
  },
  {
   "cell_type": "code",
   "execution_count": 30,
   "metadata": {},
   "outputs": [],
   "source": [
    "customXMLForPipeline = '''<?xml version='1.1' encoding='UTF-8'?>\n",
    "    <flow-definition plugin=\"workflow-job@2.42\">\n",
    "      <actions>\n",
    "        <org.jenkinsci.plugins.pipeline.modeldefinition.actions.DeclarativeJobAction plugin=\"pipeline-model-definition@1.9.3\"/>\n",
    "        <org.jenkinsci.plugins.pipeline.modeldefinition.actions.DeclarativeJobPropertyTrackerAction plugin=\"pipeline-model-definition@1.9.3\">\n",
    "          <jobProperties/>\n",
    "          <triggers/>\n",
    "          <parameters/>\n",
    "          <options/>\n",
    "        </org.jenkinsci.plugins.pipeline.modeldefinition.actions.DeclarativeJobPropertyTrackerAction>\n",
    "      </actions>\n",
    "      <description>{}</description>\n",
    "      <keepDependencies>false</keepDependencies>\n",
    "      <properties/>\n",
    "      <definition class=\"org.jenkinsci.plugins.workflow.cps.CpsScmFlowDefinition\" plugin=\"workflow-cps@2633.v6baeedc13805\">\n",
    "        <scm class=\"hudson.plugins.git.GitSCM\" plugin=\"git@4.10.0\">\n",
    "          <configVersion>2</configVersion>\n",
    "          <userRemoteConfigs>\n",
    "            <hudson.plugins.git.UserRemoteConfig>\n",
    "              <url>{}</url>\n",
    "            </hudson.plugins.git.UserRemoteConfig>\n",
    "          </userRemoteConfigs>\n",
    "          <branches>\n",
    "            <hudson.plugins.git.BranchSpec>\n",
    "              <name>*/main</name>\n",
    "            </hudson.plugins.git.BranchSpec>\n",
    "          </branches>\n",
    "          <doGenerateSubmoduleConfigurations>false</doGenerateSubmoduleConfigurations>\n",
    "          <submoduleCfg class=\"empty-list\"/>\n",
    "          <extensions/>\n",
    "        </scm>\n",
    "        <scriptPath>Jenkinsfile</scriptPath>\n",
    "        <lightweight>true</lightweight>\n",
    "      </definition>\n",
    "      <triggers/>\n",
    "      <disabled>false</disabled>\n",
    "    </flow-definition>\n",
    "'''\n",
    "\n",
    "def createPipeline(name, xmlStr, gitRepo, desc):\n",
    "  xmlStr = xmlStr.format(desc, gitRepo)\n",
    "  # print(xmlStr)\n",
    "  j.create_job(str(name), str(xmlStr))\n",
    "  time.sleep(2)\n",
    "  job = j.get_job(name)\n",
    "  return job\n",
    "\n",
    "customJob = createPipeline('customJob', customXMLForPipeline, 'https://github.com/RtjShreyD/Reverse_Shell_Python_sockets.git', 'blah blah')"
   ]
  },
  {
   "cell_type": "markdown",
   "metadata": {},
   "source": [
    "# Now to Add Credentials\n",
    "ref : [api4jenkins docs example](https://api4jenkins.readthedocs.io/en/latest/user/example.html#credential)\n",
    "1. We need to create a new empty folder first\n",
    "2. Then we need to add creds to that folder.\n",
    "3. If required we can also develop on adding a adding a new job to a folder."
   ]
  },
  {
   "cell_type": "code",
   "execution_count": 33,
   "metadata": {},
   "outputs": [
    {
     "name": "stdout",
     "output_type": "stream",
     "text": [
      "<Folder: http://localhost:8080/job/Rtjtest/>\n",
      "Folder Successfully Created\n"
     ]
    }
   ],
   "source": [
    "folderXml = '''<?xml version='1.0' encoding='UTF-8'?>\n",
    "<com.cloudbees.hudson.plugins.folder.Folder>\n",
    " <actions/>\n",
    " <description>{}</description>\n",
    " <properties/>\n",
    " <folderViews/>\n",
    " <healthMetrics/>\n",
    "</com.cloudbees.hudson.plugins.folder.Folder>'''\n",
    "\n",
    "def createFolder(name, xmlStr, desc):\n",
    "    xmlStr = xmlStr.format(desc)\n",
    "    j.create_job(name, xmlStr)\n",
    "    time.sleep(1)\n",
    "    job = j.get_job(name)\n",
    "    return job\n",
    "\n",
    "try:\n",
    "    folderJob = createFolder('Rtjtest', folderXml, 'This is a test folder created by bot')\n",
    "    if folderJob:\n",
    "        print(folderJob)\n",
    "        print(\"Folder Successfully Created\")\n",
    "except:\n",
    "    print(\"Error creating a folder\")"
   ]
  },
  {
   "cell_type": "markdown",
   "metadata": {},
   "source": [
    "## Now Adding credentials to the folder created"
   ]
  },
  {
   "cell_type": "code",
   "execution_count": 41,
   "metadata": {},
   "outputs": [],
   "source": [
    "credXml = '''<com.cloudbees.plugins.credentials.impl.UsernamePasswordCredentialsImpl>\n",
    "  <id>002</id>\n",
    "  <username>xyz</username>\n",
    "  <password>abc</password>\n",
    "  <description>002 for testing</description>\n",
    "</com.cloudbees.plugins.credentials.impl.UsernamePasswordCredentialsImpl>'''\n",
    "\n",
    "# folder = folderJob.Folder()\n",
    "\n",
    "creds = folderJob.credentials.create(credXml)"
   ]
  },
  {
   "cell_type": "code",
   "execution_count": 42,
   "metadata": {},
   "outputs": [
    {
     "name": "stdout",
     "output_type": "stream",
     "text": [
      "None\n"
     ]
    }
   ],
   "source": [
    "print(creds)"
   ]
  },
  {
   "cell_type": "code",
   "execution_count": null,
   "metadata": {},
   "outputs": [],
   "source": []
  }
 ],
 "metadata": {
  "interpreter": {
   "hash": "837121c29c5e691ecdbabcd65a087d27f83bc2744fde0f9815be77195492ec02"
  },
  "kernelspec": {
   "display_name": "Python 3.8.10 64-bit ('apiEnv': venv)",
   "language": "python",
   "name": "python3"
  },
  "language_info": {
   "codemirror_mode": {
    "name": "ipython",
    "version": 3
   },
   "file_extension": ".py",
   "mimetype": "text/x-python",
   "name": "python",
   "nbconvert_exporter": "python",
   "pygments_lexer": "ipython3",
   "version": "3.8.10"
  },
  "orig_nbformat": 4
 },
 "nbformat": 4,
 "nbformat_minor": 2
}
